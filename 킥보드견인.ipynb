{
 "cells": [
  {
   "cell_type": "markdown",
   "metadata": {},
   "source": [
    "결측치 존재 여부 확인"
   ]
  },
  {
   "cell_type": "code",
   "execution_count": 23,
   "metadata": {},
   "outputs": [
    {
     "name": "stdout",
     "output_type": "stream",
     "text": [
      "=== 처리 전 결측치가 있는 행의 데이터 ===\n",
      "         번호        신고일시  구정보                     주소   유형         조치일\n",
      "79819  2816  2021-08-17  관악구  서울특별시 관악구 신림동 1467-10  NaN  1900-01-00\n"
     ]
    }
   ],
   "source": [
    "import pandas as pd\n",
    "\n",
    "# 여러 인코딩 방식 시도\n",
    "encodings = ['cp949', 'euc-kr', 'utf-8-sig']\n",
    "\n",
    "for encoding in encodings:\n",
    "    try:\n",
    "        # CSV 파일 읽기\n",
    "        df = pd.read_csv(\"C:/Users/Yeji/Desktop/서울시 전동킥보드 견인 현황.csv\", encoding=encoding)\n",
    "        \n",
    "        # 결측치가 있는 행 찾기 (처리 전)\n",
    "        missing_rows = df[df.isnull().any(axis=1)]\n",
    "        print(\"=== 처리 전 결측치가 있는 행의 데이터 ===\")\n",
    "        print(missing_rows)\n",
    "        break\n",
    "        \n",
    "    except UnicodeDecodeError:\n",
    "        continue\n",
    "    except Exception as e:\n",
    "        print(f\"오류 발생: {str(e)}\")\n"
   ]
  },
  {
   "cell_type": "code",
   "execution_count": 22,
   "metadata": {},
   "outputs": [
    {
     "name": "stdout",
     "output_type": "stream",
     "text": [
      "필터링 전 총 행 수: 129932\n",
      "\n",
      "Invalid rows indices:\n",
      "[79819]\n",
      "\n",
      "Invalid rows data:\n",
      "         번호        신고일시  구정보                   지번주소   유형         조치일\n",
      "79819  2816  2021-08-17  관악구  서울특별시 관악구 신림동 1467-10  NaN  1900-01-00\n",
      "\n",
      "필터링 후 총 행 수: 129931\n"
     ]
    }
   ],
   "source": [
    "import pandas as pd\n",
    "\n",
    "# 여러 인코딩 방식 시도\n",
    "encodings = ['cp949', 'euc-kr', 'utf-8-sig']\n",
    "\n",
    "for encoding in encodings:\n",
    "    try:\n",
    "        # CSV 파일 읽기\n",
    "        df = pd.read_csv(\"C:/Users/Yeji/Desktop/서울시 전동킥보드 견인 현황.csv\", encoding=encoding)\n",
    "\n",
    "        # 열 이름 바꾸기\n",
    "        df = df.rename(columns={'주소': '지번주소'})\n",
    "\n",
    "        # 처리 전 행 수 출력\n",
    "        print(f\"필터링 전 총 행 수: {len(df)}\")\n",
    "        \n",
    "        # 2021, 2022, 2023으로 시작하지 않는 행 찾기\n",
    "        invalid_mask = ~df['조치일'].astype(str).str.startswith(('2021', '2022', '2023'))\n",
    "        invalid_rows = df[invalid_mask]\n",
    "        \n",
    "        # 잘못된 데이터 출력\n",
    "        print(\"\\nInvalid rows indices:\")\n",
    "        print(invalid_rows.index.tolist())\n",
    "        print(\"\\nInvalid rows data:\")\n",
    "        print(invalid_rows)\n",
    "        \n",
    "        # 잘못된 데이터 삭제\n",
    "        df = df[~invalid_mask]\n",
    "        \n",
    "        # 처리 후 행 수 출력\n",
    "        print(f\"\\n필터링 후 총 행 수: {len(df)}\")\n",
    "\n",
    "        # 처리된 데이터프레임을 CSV 파일로 저장\n",
    "        df.to_csv(\"C:/Users/Yeji/Desktop/서울시 전동킥보드 견인 현황_처리완료.csv\", encoding=encoding, index=False)\n",
    "        \n",
    "        break\n",
    "        \n",
    "    except UnicodeDecodeError:\n",
    "        continue\n",
    "    except Exception as e:\n",
    "        print(f\"오류 발생: {str(e)}\")"
   ]
  },
  {
   "cell_type": "markdown",
   "metadata": {},
   "source": [
    "지번 주소->도로명 주소 using KAKAO API"
   ]
  },
  {
   "cell_type": "code",
   "execution_count": 1,
   "metadata": {},
   "outputs": [
    {
     "name": "stderr",
     "output_type": "stream",
     "text": [
      "C:\\Users\\Yeji\\AppData\\Local\\Temp\\ipykernel_23972\\3607549802.py:27: FutureWarning: Setting an item of incompatible dtype is deprecated and will raise an error in a future version of pandas. Value '서울 영등포구 국회대로70길 19' has dtype incompatible with int64, please explicitly cast to a compatible dtype first.\n",
      "  data.loc[i, ['도로명주소', '경도', '위도', '행정동']] = [doro, long, lat, dong]\n",
      "C:\\Users\\Yeji\\AppData\\Local\\Temp\\ipykernel_23972\\3607549802.py:27: FutureWarning: Setting an item of incompatible dtype is deprecated and will raise an error in a future version of pandas. Value '126.920819737553' has dtype incompatible with int64, please explicitly cast to a compatible dtype first.\n",
      "  data.loc[i, ['도로명주소', '경도', '위도', '행정동']] = [doro, long, lat, dong]\n",
      "C:\\Users\\Yeji\\AppData\\Local\\Temp\\ipykernel_23972\\3607549802.py:27: FutureWarning: Setting an item of incompatible dtype is deprecated and will raise an error in a future version of pandas. Value '37.5292331664388' has dtype incompatible with int64, please explicitly cast to a compatible dtype first.\n",
      "  data.loc[i, ['도로명주소', '경도', '위도', '행정동']] = [doro, long, lat, dong]\n",
      "C:\\Users\\Yeji\\AppData\\Local\\Temp\\ipykernel_23972\\3607549802.py:27: FutureWarning: Setting an item of incompatible dtype is deprecated and will raise an error in a future version of pandas. Value '여의동' has dtype incompatible with int64, please explicitly cast to a compatible dtype first.\n",
      "  data.loc[i, ['도로명주소', '경도', '위도', '행정동']] = [doro, long, lat, dong]\n"
     ]
    }
   ],
   "source": [
    "import requests\n",
    "import json\n",
    "import pandas as pd\n",
    "import numpy as np\n",
    "\n",
    "def jibun_doro(df):\n",
    "    data = df.copy()\n",
    "    data['도로명주소'] = 0\n",
    "    data['행정동'] = 0\n",
    "    data['경도'] = 0\n",
    "    data['위도'] = 0\n",
    "    \n",
    "    for i in range(len(data)):\n",
    "        if data.loc[i, '지번주소'] != '탈퇴':\n",
    "            try:\n",
    "                start = data.loc[i, '지번주소']\n",
    "                url = 'https://dapi.kakao.com/v2/local/search/address.json?query={}'.format(start)\n",
    "                headers = {\"Authorization\": \"KakaoAK \" + \"689a5fac1e585ade3c28dddc48390765\"}\n",
    "                place = requests.get(url, headers=headers).json()['documents']\n",
    "                temp = place[0].get('address')   # 지번주소 정보 가져오기\n",
    "                temp2 = place[0].get('road_address')   # 도로명주소 정보 가져오기 시도\n",
    "                doro = temp2['address_name']\n",
    "                dong = temp['region_3depth_h_name']\n",
    "                long = temp['x']\n",
    "                lat = temp['y']\n",
    "                \n",
    "                data.loc[i, ['도로명주소', '경도', '위도', '행정동']] = [doro, long, lat, dong]\n",
    "                \n",
    "            except:\n",
    "                continue\n",
    "\n",
    "    data.loc[data['도로명주소']==0, '도로명주소'] = np.nan\n",
    "    return data\n",
    "\n",
    "# CSV 파일 읽기 (인코딩은 파일에 맞게 설정)\n",
    "df = pd.read_csv(\"C:/Users/Yeji/Desktop/서울시 전동킥보드 견인 현황_처리완료.csv\", encoding='cp949')\n",
    "\n",
    "# 함수 적용\n",
    "result_df = jibun_doro(df)\n",
    "\n",
    "# 결과 저장 (UTF-8 인코딩으로 저장)\n",
    "result_df.to_csv(\"C:/Users/Yeji/Desktop/서울시 전동킥보드 견인 현황_도로명주소.csv\", encoding='cp949', index=False)"
   ]
  },
  {
   "cell_type": "code",
   "execution_count": 19,
   "metadata": {},
   "outputs": [
    {
     "name": "stdout",
     "output_type": "stream",
     "text": [
      "전체 레코드 수: 129931\n",
      "도로명주소 결측치 수: 87038\n",
      "도로명주소 결측치 비율: 66.99%\n"
     ]
    }
   ],
   "source": [
    "import pandas as pd\n",
    "\n",
    "# CSV 파일 읽기\n",
    "df = pd.read_csv(\"C:/Users/Yeji/Desktop/서울시 전동킥보드 견인 현황_도로명주소.csv\", encoding='cp949')\n",
    "\n",
    "# 전체 데이터 수 계산\n",
    "total_records = len(df)\n",
    "\n",
    "# '도로명주소' 열의 결측치 수 계산\n",
    "missing_road_address = df['도로명주소'].isna().sum()\n",
    "\n",
    "# 결과 출력\n",
    "print(f\"전체 레코드 수: {total_records}\")\n",
    "print(f\"도로명주소 결측치 수: {missing_road_address}\")\n",
    "print(f\"도로명주소 결측치 비율: {missing_road_address/total_records*100:.2f}%\")"
   ]
  },
  {
   "cell_type": "code",
   "execution_count": 1,
   "metadata": {},
   "outputs": [
    {
     "name": "stderr",
     "output_type": "stream",
     "text": [
      "C:\\Users\\Yeji\\AppData\\Local\\Temp\\ipykernel_8240\\2417394118.py:34: FutureWarning: Setting an item of incompatible dtype is deprecated and will raise an error in a future version of pandas. Value '서울 영등포구 국회대로70길 19' has dtype incompatible with int64, please explicitly cast to a compatible dtype first.\n",
      "  data.loc[i, ['도로명주소', '경도', '위도', '행정동']] = [doro, long, lat, dong]\n",
      "C:\\Users\\Yeji\\AppData\\Local\\Temp\\ipykernel_8240\\2417394118.py:34: FutureWarning: Setting an item of incompatible dtype is deprecated and will raise an error in a future version of pandas. Value '126.920819737553' has dtype incompatible with int64, please explicitly cast to a compatible dtype first.\n",
      "  data.loc[i, ['도로명주소', '경도', '위도', '행정동']] = [doro, long, lat, dong]\n",
      "C:\\Users\\Yeji\\AppData\\Local\\Temp\\ipykernel_8240\\2417394118.py:34: FutureWarning: Setting an item of incompatible dtype is deprecated and will raise an error in a future version of pandas. Value '37.5292331664388' has dtype incompatible with int64, please explicitly cast to a compatible dtype first.\n",
      "  data.loc[i, ['도로명주소', '경도', '위도', '행정동']] = [doro, long, lat, dong]\n",
      "C:\\Users\\Yeji\\AppData\\Local\\Temp\\ipykernel_8240\\2417394118.py:34: FutureWarning: Setting an item of incompatible dtype is deprecated and will raise an error in a future version of pandas. Value '여의동' has dtype incompatible with int64, please explicitly cast to a compatible dtype first.\n",
      "  data.loc[i, ['도로명주소', '경도', '위도', '행정동']] = [doro, long, lat, dong]\n"
     ]
    }
   ],
   "source": [
    "import requests\n",
    "import json\n",
    "import pandas as pd\n",
    "import numpy as np\n",
    "\n",
    "def jibun_doro(df):\n",
    "    data = df.copy()\n",
    "    data['도로명주소'] = 0\n",
    "    data['행정동'] = 0\n",
    "    data['경도'] = 0\n",
    "    data['위도'] = 0\n",
    "    \n",
    "    for i in range(len(data)):\n",
    "        if data.loc[i, '지번주소'] != '탈퇴':\n",
    "            try:\n",
    "                start = data.loc[i, '지번주소']\n",
    "                url = 'https://dapi.kakao.com/v2/local/search/address.json?query={}'.format(start)\n",
    "                headers = {\"Authorization\": \"KakaoAK \" + \"689a5fac1e585ade3c28dddc48390765\"}\n",
    "                place = requests.get(url, headers=headers).json()['documents']\n",
    "                temp = place[0].get('address')   # 지번주소 정보 가져오기\n",
    "                \n",
    "                # 도로명주소 예외처리\n",
    "                try:\n",
    "                    temp2 = place[0].get('road_address')\n",
    "                    doro = temp2['address_name'] if temp2 else 0\n",
    "                except:\n",
    "                    doro = 0\n",
    "            \n",
    "                # 나머지 정보 추출\n",
    "                dong = temp['region_3depth_h_name']\n",
    "                long = temp['x']\n",
    "                lat = temp['y']\n",
    "            \n",
    "                data.loc[i, ['도로명주소', '경도', '위도', '행정동']] = [doro, long, lat, dong]\n",
    "            \n",
    "            except:\n",
    "                continue\n",
    "\n",
    "    data.loc[data['도로명주소']==0, '도로명주소'] = np.nan\n",
    "    return data\n",
    "\n",
    "# CSV 파일 읽기 (인코딩은 파일에 맞게 설정)\n",
    "df = pd.read_csv(\"C:/Users/Yeji/Desktop/서울시 전동킥보드 견인 현황_처리완료.csv\", encoding='cp949')\n",
    "# 함수 적용\n",
    "result_df = jibun_doro(df)\n",
    "\n",
    "# 결과 저장 (UTF-8 인코딩으로 저장)\n",
    "result_df.to_csv(\"C:/Users/Yeji/Desktop/서울시 전동킥보드 견인 현황_도로명주소update.csv\", encoding='cp949', index=False)"
   ]
  },
  {
   "cell_type": "code",
   "execution_count": 3,
   "metadata": {},
   "outputs": [
    {
     "name": "stdout",
     "output_type": "stream",
     "text": [
      "전체 레코드 수: 129931\n",
      "행정동 결측치 수: 56\n",
      "행정동 결측치 비율: 0.04%\n"
     ]
    },
    {
     "name": "stderr",
     "output_type": "stream",
     "text": [
      "C:\\Users\\Yeji\\AppData\\Local\\Temp\\ipykernel_8240\\776503324.py:4: DtypeWarning: Columns (6,7) have mixed types. Specify dtype option on import or set low_memory=False.\n",
      "  df = pd.read_csv(\"C:/Users/Yeji/Desktop/서울시 전동킥보드 견인 현황_도로명주소update.csv\", encoding='cp949')\n"
     ]
    }
   ],
   "source": [
    "import pandas as pd\n",
    "\n",
    "# CSV 파일 읽기\n",
    "df = pd.read_csv(\"C:/Users/Yeji/Desktop/서울시 전동킥보드 견인 현황_도로명주소update.csv\", encoding='cp949')\n",
    "\n",
    "# 전체 데이터 수 계산\n",
    "total_records = len(df)\n",
    "\n",
    "# '도로명주소' 열의 결측치 수 계산\n",
    "missing_address = df['행정동'].isna().sum()\n",
    "\n",
    "# 결과 출력\n",
    "print(f\"전체 레코드 수: {total_records}\")\n",
    "print(f\"행정동 결측치 수: {missing_address}\")\n",
    "print(f\"행정동 결측치 비율: {missing_address/total_records*100:.2f}%\")"
   ]
  },
  {
   "cell_type": "code",
   "execution_count": 6,
   "metadata": {},
   "outputs": [
    {
     "name": "stderr",
     "output_type": "stream",
     "text": [
      "C:\\Users\\Yeji\\AppData\\Local\\Temp\\ipykernel_8240\\3482417151.py:4: DtypeWarning: Columns (6,7) have mixed types. Specify dtype option on import or set low_memory=False.\n",
      "  df = pd.read_csv(\"C:/Users/Yeji/Desktop/서울시 전동킥보드 견인 현황_도로명주소update.csv\", encoding='cp949')\n"
     ]
    }
   ],
   "source": [
    "import pandas as pd\n",
    "\n",
    "# CSV 파일 읽기\n",
    "df = pd.read_csv(\"C:/Users/Yeji/Desktop/서울시 전동킥보드 견인 현황_도로명주소update.csv\", encoding='cp949')\n",
    "\n",
    "# '행정동' 열이 결측치가 아닌 행만 필터링\n",
    "filtered_df = df[df['행정동'].notna()]\n",
    "\n",
    "# 필터링된 데이터를 새로운 CSV 파일로 저장\n",
    "filtered_df.to_csv(\"C:/Users/Yeji/Desktop/서울시 전동킥보드 견인 현황_행정동_filtered.csv\", index=False, encoding='cp949')"
   ]
  },
  {
   "cell_type": "markdown",
   "metadata": {},
   "source": [
    "도로명 주소->도로명 코드"
   ]
  }
 ],
 "metadata": {
  "kernelspec": {
   "display_name": "Python 3",
   "language": "python",
   "name": "python3"
  },
  "language_info": {
   "codemirror_mode": {
    "name": "ipython",
    "version": 3
   },
   "file_extension": ".py",
   "mimetype": "text/x-python",
   "name": "python",
   "nbconvert_exporter": "python",
   "pygments_lexer": "ipython3",
   "version": "3.12.4"
  }
 },
 "nbformat": 4,
 "nbformat_minor": 2
}
