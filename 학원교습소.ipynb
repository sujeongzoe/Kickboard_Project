{
 "cells": [
  {
   "cell_type": "code",
   "execution_count": 1,
   "metadata": {},
   "outputs": [
    {
     "name": "stdout",
     "output_type": "stream",
     "text": [
      "{'encoding': 'CP949', 'confidence': 0.99, 'language': 'Korean'}\n"
     ]
    }
   ],
   "source": [
    "import chardet\n",
    "\n",
    "# 바이너리 모드로 파일 열기\n",
    "with open(\"C:/Users/Yeji/Desktop/열람실팟/학원교습소/서울시 학원 교습소정보.csv\", 'rb') as f:\n",
    "    result = chardet.detect(f.read())\n",
    "    print(result)"
   ]
  },
  {
   "cell_type": "code",
   "execution_count": 18,
   "metadata": {},
   "outputs": [],
   "source": [
    "import pandas as pd\n",
    "\n",
    "# CSV 파일 읽기 (인코딩 방식 지정)\n",
    "df = pd.read_csv(\"C:/Users/Yeji/Desktop/열람실팟/학원교습소/서울시 학원 교습소정보.csv\", encoding='cp949')\n",
    "\n",
    "# 강남구 데이터 필터링\n",
    "gangnam = df[df['행정구역명'] == '강남구']\n",
    "# 새 CSV 파일로 저장\n",
    "gangnam.to_csv(\"C:/Users/Yeji/Desktop/열람실팟/학원교습소/서울시 학원 교습소정보_강남구.csv\", index=False, encoding='utf-8-sig')\n",
    "\n",
    "# 송파구 데이터 필터링\n",
    "songpa = df[df['행정구역명'] == '송파구']\n",
    "# 새 CSV 파일로 저장\n",
    "songpa.to_csv(\"C:/Users/Yeji/Desktop/열람실팟/학원교습소/서울시 학원 교습소정보_송파구.csv\", index=False, encoding='utf-8-sig')\n",
    "\n",
    "# 마포구 데이터 필터링\n",
    "mapo = df[df['행정구역명'] == '마포구']\n",
    "# 새 CSV 파일로 저장\n",
    "mapo.to_csv(\"C:/Users/Yeji/Desktop/열람실팟/학원교습소/서울시 학원 교습소정보_마포구.csv\", index=False, encoding='utf-8-sig')"
   ]
  },
  {
   "cell_type": "code",
   "execution_count": 19,
   "metadata": {},
   "outputs": [
    {
     "data": {
      "text/plain": [
       "(3613, 22)"
      ]
     },
     "execution_count": 19,
     "metadata": {},
     "output_type": "execute_result"
    }
   ],
   "source": [
    "gangnam.shape"
   ]
  },
  {
   "cell_type": "code",
   "execution_count": 26,
   "metadata": {},
   "outputs": [
    {
     "name": "stdout",
     "output_type": "stream",
     "text": [
      "7\n",
      "17\n"
     ]
    }
   ],
   "source": [
    "missing = gangnam['도로명주소'].isna().sum()\n",
    "print(missing)\n",
    "missing_count = len(gangnam[gangnam['도로명주소'] == '.'])\n",
    "print(missing_count)"
   ]
  },
  {
   "cell_type": "code",
   "execution_count": 42,
   "metadata": {},
   "outputs": [
    {
     "name": "stdout",
     "output_type": "stream",
     "text": [
      "[ 322  324  325  326  334  351 3599]\n"
     ]
    },
    {
     "data": {
      "text/plain": [
       "array([328, 330, 339, 340, 341, 342, 343, 345, 346, 348, 349, 350, 352,\n",
       "       387, 389, 393, 405])"
      ]
     },
     "execution_count": 42,
     "metadata": {},
     "output_type": "execute_result"
    }
   ],
   "source": [
    "import numpy as np\n",
    "condition = gangnam['도로명주소'].isna()\n",
    "position = np.where(condition)[0]\n",
    "print(position+2)\n",
    "condition2 = (gangnam['도로명주소'] == '.')\n",
    "position2 = np.where(condition2)[0]\n",
    "position2+2"
   ]
  },
  {
   "cell_type": "markdown",
   "metadata": {},
   "source": [
    "'도로명주소'가 결측치 or '.'인 행 데이터 제거"
   ]
  },
  {
   "cell_type": "code",
   "execution_count": null,
   "metadata": {},
   "outputs": [],
   "source": [
    "filtered = gangnam[(gangnam['도로명주소'].notna()) & (gangnam['도로명주소'] != '.')]\n",
    "\n",
    "# 새로운 CSV 파일로 저장\n",
    "filtered.to_csv(\"C:/Users/Yeji/Desktop/열람실팟/학원교습소/서울시 학원 교습소정보_강남구.csv\", index=False, encoding='utf-8-sig')"
   ]
  },
  {
   "cell_type": "code",
   "execution_count": 27,
   "metadata": {},
   "outputs": [
    {
     "name": "stdout",
     "output_type": "stream",
     "text": [
      "0\n",
      "0\n"
     ]
    }
   ],
   "source": [
    "missing = songpa['도로명주소'].isna().sum()\n",
    "print(missing)\n",
    "missing_count = len(songpa[songpa['도로명주소'] == '.'])\n",
    "print(missing_count)"
   ]
  },
  {
   "cell_type": "code",
   "execution_count": 28,
   "metadata": {},
   "outputs": [
    {
     "name": "stdout",
     "output_type": "stream",
     "text": [
      "0\n",
      "0\n"
     ]
    }
   ],
   "source": [
    "missing = mapo['도로명주소'].isna().sum()\n",
    "print(missing)\n",
    "missing_count = len(mapo[mapo['도로명주소'] == '.'])\n",
    "print(missing_count)"
   ]
  },
  {
   "cell_type": "code",
   "execution_count": 46,
   "metadata": {},
   "outputs": [
    {
     "name": "stdout",
     "output_type": "stream",
     "text": [
      "{'encoding': 'UTF-8-SIG', 'confidence': 1.0, 'language': ''}\n"
     ]
    }
   ],
   "source": [
    "import chardet\n",
    "\n",
    "# 바이너리 모드로 파일 열기\n",
    "with open(\"C:/Users/Yeji/Desktop/열람실팟/학원교습소/서울시 학원 교습소정보_강남구.csv\", 'rb') as f:\n",
    "    result = chardet.detect(f.read())\n",
    "    print(result)"
   ]
  },
  {
   "cell_type": "code",
   "execution_count": null,
   "metadata": {},
   "outputs": [],
   "source": [
    "gangnam = filtered.rename(columns={'도로명주소': '주소'})\n",
    "gangnam.to_csv(\"C:/Users/Yeji/Desktop/열람실팟/학원교습소/서울시 학원 교습소정보_강남구.csv\", encoding='utf-8-sig', index=False)\n"
   ]
  },
  {
   "cell_type": "code",
   "execution_count": null,
   "metadata": {},
   "outputs": [
    {
     "name": "stderr",
     "output_type": "stream",
     "text": [
      "C:\\Users\\Yeji\\AppData\\Local\\Temp\\ipykernel_11544\\2491252872.py:21: FutureWarning: Setting an item of incompatible dtype is deprecated and will raise an error in a future version of pandas. Value '127.051899209649' has dtype incompatible with int64, please explicitly cast to a compatible dtype first.\n",
      "  data.loc[i, ['경도', '위도']] = [temp['x'], temp['y']]\n",
      "C:\\Users\\Yeji\\AppData\\Local\\Temp\\ipykernel_11544\\2491252872.py:21: FutureWarning: Setting an item of incompatible dtype is deprecated and will raise an error in a future version of pandas. Value '37.4990331412977' has dtype incompatible with int64, please explicitly cast to a compatible dtype first.\n",
      "  data.loc[i, ['경도', '위도']] = [temp['x'], temp['y']]\n"
     ]
    }
   ],
   "source": [
    "import requests\n",
    "import pandas as pd\n",
    "import numpy as np\n",
    "\n",
    "def doro_to_coords(df):\n",
    "    data = df.copy()\n",
    "    data['경도'] = 0\n",
    "    data['위도'] = 0\n",
    "    \n",
    "    for i in range(len(data)):\n",
    "        if pd.notna(data.loc[i, '주소']) and data.loc[i, '주소'] != '탈퇴':  # '도로명주소' → '주소' 변경\n",
    "            try:\n",
    "                address = data.loc[i, '주소']\n",
    "                url = f'https://dapi.kakao.com/v2/local/search/address.json?query={address}'\n",
    "                headers = {\"Authorization\": \"KakaoAK \" + \"bbda3405a8e26906501ca18e70286239\"}\n",
    "                response = requests.get(url, headers=headers).json()\n",
    "                \n",
    "                if response.get('documents'):\n",
    "                    temp = response['documents'][0].get('road_address')  # 도로명주소 정보 가져오기\n",
    "                    if temp:\n",
    "                        data.loc[i, ['경도', '위도']] = [temp['x'], temp['y']]\n",
    "            \n",
    "            except Exception as e:\n",
    "                print(f\"오류 발생: {e} (행 {i})\")\n",
    "    \n",
    "    return data\n",
    "\n",
    "# CSV 파일 읽기 (경로 수정)\n",
    "df = pd.read_csv(\"C:/Users/Yeji/Desktop/열람실팟/학원교습소/서울시 학원 교습소정보_강남구.csv\", encoding='utf-8-sig')\n",
    "# 함수 적용\n",
    "result_df = doro_to_coords(df)\n",
    "# 결과 저장 (경로 수정)\n",
    "result_df.to_csv(\"C:/Users/Yeji/Desktop/열람실팟/학원교습소/서울시 학원 교습소정보_강남구_최종.csv\", encoding='utf-8-sig', index=False)\n"
   ]
  },
  {
   "cell_type": "code",
   "execution_count": null,
   "metadata": {},
   "outputs": [
    {
     "name": "stderr",
     "output_type": "stream",
     "text": [
      "C:\\Users\\Yeji\\AppData\\Local\\Temp\\ipykernel_11544\\2491252872.py:21: FutureWarning: Setting an item of incompatible dtype is deprecated and will raise an error in a future version of pandas. Value '127.051899209649' has dtype incompatible with int64, please explicitly cast to a compatible dtype first.\n",
      "  data.loc[i, ['경도', '위도']] = [temp['x'], temp['y']]\n",
      "C:\\Users\\Yeji\\AppData\\Local\\Temp\\ipykernel_11544\\2491252872.py:21: FutureWarning: Setting an item of incompatible dtype is deprecated and will raise an error in a future version of pandas. Value '37.4990331412977' has dtype incompatible with int64, please explicitly cast to a compatible dtype first.\n",
      "  data.loc[i, ['경도', '위도']] = [temp['x'], temp['y']]\n"
     ]
    },
    {
     "name": "stdout",
     "output_type": "stream",
     "text": [
      "오류 발생: HTTPSConnectionPool(host='dapi.kakao.com', port=443): Max retries exceeded with url: /v2/local/search/address.json?query=%EC%84%9C%EC%9A%B8%ED%8A%B9%EB%B3%84%EC%8B%9C%20%EA%B0%95%EB%82%A8%EA%B5%AC%20%EC%95%95%EA%B5%AC%EC%A0%95%EB%A1%9C29%EA%B8%B8%2068 (Caused by ConnectTimeoutError(<urllib3.connection.HTTPSConnection object at 0x000002BBC535B950>, 'Connection to dapi.kakao.com timed out. (connect timeout=None)')) (행 590)\n",
      "오류 발생: HTTPSConnectionPool(host='dapi.kakao.com', port=443): Max retries exceeded with url: /v2/local/search/address.json?query=%EC%84%9C%EC%9A%B8%ED%8A%B9%EB%B3%84%EC%8B%9C%20%EA%B0%95%EB%82%A8%EA%B5%AC%20%EC%84%A0%EB%A6%89%EB%A1%9C%2030 (Caused by ConnectTimeoutError(<urllib3.connection.HTTPSConnection object at 0x000002BBC7851D30>, 'Connection to dapi.kakao.com timed out. (connect timeout=None)')) (행 2137)\n"
     ]
    }
   ],
   "source": [
    "# CSV 파일 읽기 (경로 수정)\n",
    "df = pd.read_csv(\"C:/Users/Yeji/Desktop/열람실팟/학원교습소/서울시 학원 교습소정보_강남구.csv\", encoding='utf-8-sig')\n",
    "# 함수 적용\n",
    "result_df = doro_to_coords(df)\n",
    "# 결과 저장 (경로 수정)\n",
    "result_df.to_csv(\"C:/Users/Yeji/Desktop/열람실팟/학원교습소/서울시 학원 교습소정보_강남구.csv\", encoding='utf-8-sig', index=False)"
   ]
  },
  {
   "cell_type": "code",
   "execution_count": null,
   "metadata": {},
   "outputs": [
    {
     "name": "stdout",
     "output_type": "stream",
     "text": [
      "전체 레코드 수: 3589\n",
      "위도 값이 0인 데이터 수: 17\n",
      "위도 값이 0인 데이터 비율: 0.47%\n"
     ]
    }
   ],
   "source": [
    "# CSV 파일 읽기\n",
    "df = pd.read_csv(\"C:/Users/Yeji/Desktop/열람실팟/학원교습소/서울시 학원 교습소정보_강남구.csv\", encoding='utf-8-sig')\n",
    "\n",
    "# 전체 데이터 수 계산\n",
    "total_records = len(df)\n",
    "\n",
    "# '위도' 열의 값이 0인 데이터 수 계산\n",
    "zero_latitude = (df['위도'] == 0).sum()\n",
    "\n",
    "# 결과 출력\n",
    "print(f\"전체 레코드 수: {total_records}\")\n",
    "print(f\"위도 값이 0인 데이터 수: {zero_latitude}\")\n",
    "print(f\"위도 값이 0인 데이터 비율: {zero_latitude/total_records*100:.2f}%\")"
   ]
  },
  {
   "cell_type": "markdown",
   "metadata": {},
   "source": [
    "4326 -> 5179"
   ]
  },
  {
   "cell_type": "code",
   "execution_count": 11,
   "metadata": {},
   "outputs": [],
   "source": [
    "import pandas as pd\n",
    "import numpy as np\n",
    "\n",
    "# CSV 파일 읽기\n",
    "df = pd.read_csv(\"C:/Users/Yeji/Desktop/열람실팟/학원교습소/서울시 학원 교습소정보_송파구.csv\", encoding='utf-8-sig')\n",
    "\n",
    "import geopandas as gpd\n",
    "from shapely.geometry import Point\n",
    "\n",
    "# 조건 마스크 생성 (원본 좌표가 모두 0인 경우)\n",
    "zero_mask = (df['경도'] == 0) & (df['위도'] == 0)\n",
    "\n",
    "# GeoDataFrame 생성\n",
    "geometry = [Point(lon, lat) for lon, lat in zip(df['경도'], df['위도'])]\n",
    "gdf = gpd.GeoDataFrame(df, geometry=geometry, crs='EPSG:4326')\n",
    "\n",
    "# 좌표계 변환 (0이 아닌 데이터만 변환 수행)\n",
    "gdf_transformed = gdf.copy()\n",
    "if not zero_mask.all():  # 0이 아닌 데이터가 있는 경우에만 변환\n",
    "    gdf_non_zero = gdf[~zero_mask].to_crs('EPSG:5179')\n",
    "    gdf_transformed.loc[~zero_mask, 'geometry'] = gdf_non_zero.geometry\n",
    "\n",
    "# 좌표값 업데이트 (조건부 할당)\n",
    "gdf_transformed['경도'] = np.where(zero_mask, 0, gdf_transformed.geometry.x)\n",
    "gdf_transformed['위도'] = np.where(zero_mask, 0, gdf_transformed.geometry.y)\n",
    "\n",
    "df1 = gdf_transformed[['주소', '위도', '경도']]\n",
    "\n",
    "# CSV 저장\n",
    "df1.to_csv(\"C:/Users/Yeji/Desktop/열람실팟/학원교습소/서울시 학원 교습소정보_송파구.csv\", encoding='utf-8-sig', index=False)"
   ]
  },
  {
   "cell_type": "markdown",
   "metadata": {},
   "source": [
    "위경도 값이 0인 데이터 필터링"
   ]
  },
  {
   "cell_type": "code",
   "execution_count": 10,
   "metadata": {},
   "outputs": [],
   "source": [
    "import pandas as pd\n",
    "df = pd.read_csv(\"C:/Users/Yeji/Desktop/열람실팟/학원교습소/서울시 학원 교습소정보_송파구.csv\", encoding='utf-8-sig')\n",
    "\n",
    "# 위도가 0인 행만 필터링\n",
    "filtered_df = df[df['위도'] == 0]\n",
    "filtered_df1 = filtered_df[['주소']]\n",
    "filtered_df2 = filtered_df1.rename(columns={'주소': 'addr'})\n",
    "\n",
    "# 필터링된 데이터를 새 CSV 파일로 저장\n",
    "filtered_df2.to_csv(\"C:/Users/Yeji/Desktop/열람실팟/학원교습소/서울시 학원 교습소정보_송파구0.csv\", encoding='utf-8-sig', index=False)\n",
    "\n",
    "# 위도가 0이 아닌 행만 필터링\n",
    "df_not_zero = df[df['위도'] != 0]\n",
    "filtered_df3 = df_not_zero[['주소', '위도', '경도']]\n",
    "\n",
    "# 필터링된 데이터를 새 CSV 파일로 저장\n",
    "filtered_df3.to_csv(\"C:/Users/Yeji/Desktop/열람실팟/학원교습소/서울시 학원 교습소정보_송파구X.csv\", encoding='utf-8-sig', index=False)\n"
   ]
  },
  {
   "cell_type": "code",
   "execution_count": 11,
   "metadata": {},
   "outputs": [],
   "source": [
    "import pandas as pd\n",
    "df1 = pd.read_csv(\"C:/Users/Yeji/Desktop/열람실팟/학원교습소/서울시 학원 교습소정보_송파구0.csv\", encoding='utf-8-sig')\n",
    "df2 = pd.read_csv(\"C:/Users/Yeji/Desktop/열람실팟/학원교습소/서울시 학원 교습소정보_송파구X.csv\", encoding='utf-8-sig')\n",
    "concatenated_df = pd.concat([df1, df2], ignore_index=True)\n",
    "concatenated_df.to_csv(\"C:/Users/Yeji/Desktop/열람실팟/학원교습소/서울시 학원 교습소정보_송파구_최종.csv\", encoding='utf-8-sig', index=False)"
   ]
  },
  {
   "cell_type": "code",
   "execution_count": 5,
   "metadata": {},
   "outputs": [
    {
     "data": {
      "text/plain": [
       "(3589, 3)"
      ]
     },
     "execution_count": 5,
     "metadata": {},
     "output_type": "execute_result"
    }
   ],
   "source": [
    "df.shape"
   ]
  },
  {
   "cell_type": "code",
   "execution_count": 3,
   "metadata": {},
   "outputs": [
    {
     "data": {
      "text/plain": [
       "(17, 3)"
      ]
     },
     "execution_count": 3,
     "metadata": {},
     "output_type": "execute_result"
    }
   ],
   "source": [
    "filtered_df.shape"
   ]
  },
  {
   "cell_type": "code",
   "execution_count": 4,
   "metadata": {},
   "outputs": [
    {
     "data": {
      "text/plain": [
       "(3572, 3)"
      ]
     },
     "execution_count": 4,
     "metadata": {},
     "output_type": "execute_result"
    }
   ],
   "source": [
    "df_not_zero.shape"
   ]
  },
  {
   "cell_type": "code",
   "execution_count": 56,
   "metadata": {},
   "outputs": [],
   "source": [
    "songpa = songpa.rename(columns={'도로명주소': '주소'})\n",
    "songpa.to_csv(\"C:/Users/Yeji/Desktop/열람실팟/학원교습소/서울시 학원 교습소정보_송파구.csv\", encoding='utf-8-sig', index=False)\n",
    "\n",
    "mapo = mapo.rename(columns={'도로명주소': '주소'})\n",
    "mapo.to_csv(\"C:/Users/Yeji/Desktop/열람실팟/학원교습소/서울시 학원 교습소정보_마포구.csv\", encoding='utf-8-sig', index=False)"
   ]
  },
  {
   "cell_type": "code",
   "execution_count": 57,
   "metadata": {},
   "outputs": [
    {
     "name": "stderr",
     "output_type": "stream",
     "text": [
      "C:\\Users\\Yeji\\AppData\\Local\\Temp\\ipykernel_11544\\2491252872.py:21: FutureWarning: Setting an item of incompatible dtype is deprecated and will raise an error in a future version of pandas. Value '127.101917258808' has dtype incompatible with int64, please explicitly cast to a compatible dtype first.\n",
      "  data.loc[i, ['경도', '위도']] = [temp['x'], temp['y']]\n",
      "C:\\Users\\Yeji\\AppData\\Local\\Temp\\ipykernel_11544\\2491252872.py:21: FutureWarning: Setting an item of incompatible dtype is deprecated and will raise an error in a future version of pandas. Value '37.5178866228576' has dtype incompatible with int64, please explicitly cast to a compatible dtype first.\n",
      "  data.loc[i, ['경도', '위도']] = [temp['x'], temp['y']]\n"
     ]
    }
   ],
   "source": [
    "# CSV 파일 읽기 (경로 수정)\n",
    "df = pd.read_csv(\"C:/Users/Yeji/Desktop/열람실팟/학원교습소/서울시 학원 교습소정보_송파구.csv\", encoding='utf-8-sig')\n",
    "# 함수 적용\n",
    "result_df = doro_to_coords(df)\n",
    "# 결과 저장 (경로 수정)\n",
    "result_df.to_csv(\"C:/Users/Yeji/Desktop/열람실팟/학원교습소/서울시 학원 교습소정보_송파구_최종.csv\", encoding='utf-8-sig', index=False)\n"
   ]
  },
  {
   "cell_type": "code",
   "execution_count": 58,
   "metadata": {},
   "outputs": [
    {
     "name": "stdout",
     "output_type": "stream",
     "text": [
      "전체 레코드 수: 1972\n",
      "위도 값이 0인 데이터 수: 2\n",
      "위도 값이 0인 데이터 비율: 0.10%\n"
     ]
    }
   ],
   "source": [
    "# CSV 파일 읽기\n",
    "df = pd.read_csv(\"C:/Users/Yeji/Desktop/열람실팟/학원교습소/서울시 학원 교습소정보_송파구_최종.csv\", encoding='utf-8-sig')\n",
    "\n",
    "# 전체 데이터 수 계산\n",
    "total_records = len(df)\n",
    "\n",
    "# '위도' 열의 값이 0인 데이터 수 계산\n",
    "zero_latitude = (df['위도'] == 0).sum()\n",
    "\n",
    "# 결과 출력\n",
    "print(f\"전체 레코드 수: {total_records}\")\n",
    "print(f\"위도 값이 0인 데이터 수: {zero_latitude}\")\n",
    "print(f\"위도 값이 0인 데이터 비율: {zero_latitude/total_records*100:.2f}%\")"
   ]
  },
  {
   "cell_type": "code",
   "execution_count": 59,
   "metadata": {},
   "outputs": [
    {
     "name": "stderr",
     "output_type": "stream",
     "text": [
      "C:\\Users\\Yeji\\AppData\\Local\\Temp\\ipykernel_11544\\2491252872.py:21: FutureWarning: Setting an item of incompatible dtype is deprecated and will raise an error in a future version of pandas. Value '126.945190775648' has dtype incompatible with int64, please explicitly cast to a compatible dtype first.\n",
      "  data.loc[i, ['경도', '위도']] = [temp['x'], temp['y']]\n",
      "C:\\Users\\Yeji\\AppData\\Local\\Temp\\ipykernel_11544\\2491252872.py:21: FutureWarning: Setting an item of incompatible dtype is deprecated and will raise an error in a future version of pandas. Value '37.5564397859151' has dtype incompatible with int64, please explicitly cast to a compatible dtype first.\n",
      "  data.loc[i, ['경도', '위도']] = [temp['x'], temp['y']]\n"
     ]
    }
   ],
   "source": [
    "# CSV 파일 읽기 (경로 수정)\n",
    "df = pd.read_csv(\"C:/Users/Yeji/Desktop/열람실팟/학원교습소/서울시 학원 교습소정보_마포구.csv\", encoding='utf-8-sig')\n",
    "# 함수 적용\n",
    "result_df = doro_to_coords(df)\n",
    "# 결과 저장 (경로 수정)\n",
    "result_df.to_csv(\"C:/Users/Yeji/Desktop/열람실팟/학원교습소/서울시 학원 교습소정보_마포구_최종.csv\", encoding='utf-8-sig', index=False)\n"
   ]
  },
  {
   "cell_type": "code",
   "execution_count": 60,
   "metadata": {},
   "outputs": [
    {
     "name": "stdout",
     "output_type": "stream",
     "text": [
      "전체 레코드 수: 1164\n",
      "위도 값이 0인 데이터 수: 4\n",
      "위도 값이 0인 데이터 비율: 0.34%\n"
     ]
    }
   ],
   "source": [
    "# CSV 파일 읽기\n",
    "df = pd.read_csv(\"C:/Users/Yeji/Desktop/열람실팟/학원교습소/서울시 학원 교습소정보_마포구_최종.csv\", encoding='utf-8-sig')\n",
    "\n",
    "# 전체 데이터 수 계산\n",
    "total_records = len(df)\n",
    "\n",
    "# '위도' 열의 값이 0인 데이터 수 계산\n",
    "zero_latitude = (df['위도'] == 0).sum()\n",
    "\n",
    "# 결과 출력\n",
    "print(f\"전체 레코드 수: {total_records}\")\n",
    "print(f\"위도 값이 0인 데이터 수: {zero_latitude}\")\n",
    "print(f\"위도 값이 0인 데이터 비율: {zero_latitude/total_records*100:.2f}%\")"
   ]
  }
 ],
 "metadata": {
  "kernelspec": {
   "display_name": "Python 3",
   "language": "python",
   "name": "python3"
  },
  "language_info": {
   "codemirror_mode": {
    "name": "ipython",
    "version": 3
   },
   "file_extension": ".py",
   "mimetype": "text/x-python",
   "name": "python",
   "nbconvert_exporter": "python",
   "pygments_lexer": "ipython3",
   "version": "3.12.4"
  }
 },
 "nbformat": 4,
 "nbformat_minor": 2
}
