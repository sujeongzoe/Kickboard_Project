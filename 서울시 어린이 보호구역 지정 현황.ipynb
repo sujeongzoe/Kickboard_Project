{
 "cells": [
  {
   "cell_type": "markdown",
   "metadata": {},
   "source": [
    "### 서울시 어린이 보호구역 지정 현황"
   ]
  },
  {
   "cell_type": "code",
   "execution_count": 42,
   "metadata": {},
   "outputs": [
    {
     "name": "stdout",
     "output_type": "stream",
     "text": [
      "   자치구          행정동      도로명주소              시설명  시설유형    지정연도\n",
      "0  종로구          부암동    홍지문2길 1  상명대학교사범대학부속초등학교  초등학교  2006.0\n",
      "1  종로구  종로1.2.3.4가동   삼일대로 446         서울교동초등학교  초등학교  2006.0\n",
      "2  종로구          이화동     대학로 64  서울대학교사범대학부설초등학교  초등학교  1995.0\n",
      "3  종로구          무악동  통일로12길 23        서울독립문초등학교  초등학교  2005.0\n",
      "4  종로구          사직동   사직로9길 19         서울매동초등학교  초등학교  2005.0\n"
     ]
    }
   ],
   "source": [
    "import pandas as pd\n",
    "\n",
    "# 엑셀 파일 경로\n",
    "file_path = r\"C:\\Users\\user\\Desktop\\dataset\\어린이 보호구역 지정현황(2024.12월말 기준).xlsx\"\n",
    "\n",
    "# 데이터 불러오기 (헤더 없이 가져오기)\n",
    "df = pd.read_excel(file_path, skiprows=6, header=None) \n",
    "\n",
    "# 앞의 두 개 열 삭제\n",
    "df = df.iloc[:, 2:]\n",
    "\n",
    "# 열 이름\n",
    "df.columns = ['자치구', '행정동', '도로명주소', '시설명', '시설유형','지정연도']  \n",
    "\n",
    "# 데이터 확인\n",
    "print(df.head())"
   ]
  },
  {
   "cell_type": "code",
   "execution_count": 43,
   "metadata": {},
   "outputs": [
    {
     "name": "stdout",
     "output_type": "stream",
     "text": [
      "자치구       0\n",
      "행정동       0\n",
      "도로명주소     0\n",
      "시설명      24\n",
      "시설유형     24\n",
      "지정연도     24\n",
      "dtype: int64\n",
      "\n",
      "자치구      0\n",
      "행정동      0\n",
      "도로명주소    0\n",
      "시설명      0\n",
      "시설유형     0\n",
      "지정연도     0\n",
      "dtype: int64\n"
     ]
    }
   ],
   "source": [
    "print(df.isna().sum()) #서울시 25개 자치구에서 종로구를 제외한 24개 => 결측치 없음\n",
    "\n",
    "# '시설명', '시설유형', '지정연도'가 모두 NaN인 행 삭제\n",
    "df = df.dropna(subset=['시설명', '시설유형', '지정연도'], how='all')\n",
    "print()\n",
    "# 결과 확인\n",
    "print(df.isna().sum())  # 결측치 다시 확인"
   ]
  },
  {
   "cell_type": "code",
   "execution_count": 44,
   "metadata": {},
   "outputs": [],
   "source": [
    "df = df.drop(columns=['시설명', '시설유형', '지정연도'])"
   ]
  },
  {
   "cell_type": "code",
   "execution_count": 45,
   "metadata": {},
   "outputs": [
    {
     "name": "stdout",
     "output_type": "stream",
     "text": [
      "      자치구          행정동         도로명주소\n",
      "0     종로구          부암동       홍지문2길 1\n",
      "1     종로구  종로1.2.3.4가동      삼일대로 446\n",
      "2     종로구          이화동        대학로 64\n",
      "3     종로구          무악동     통일로12길 23\n",
      "4     종로구          사직동      사직로9길 19\n",
      "...   ...          ...           ...\n",
      "1619  강동구         고덕2동  동남로82길 94-54\n",
      "1620  강동구         천호2동     상암로14길 77\n",
      "1621  강동구         상일2동      상일로 74-1\n",
      "1622  강동구          강일동    아리수로93다길 1\n",
      "1623  강동구          강일동     고덕로97길 80\n",
      "\n",
      "[125 rows x 3 columns]\n",
      "\n",
      "자치구\n",
      "강남구     108\n",
      "강동구      85\n",
      "강북구      36\n",
      "강서구      88\n",
      "관악구      69\n",
      "광진구      66\n",
      "구로구      56\n",
      "금천구      44\n",
      "노원구     116\n",
      "도봉구      63\n",
      "동대문구     75\n",
      "동작구      61\n",
      "마포구      51\n",
      "서대문구     38\n",
      "서초구      93\n",
      "성동구      50\n",
      "성북구      99\n",
      "송파구      98\n",
      "양천구      87\n",
      "영등포구     66\n",
      "용산구      37\n",
      "은평구      66\n",
      "종로구      44\n",
      "중구       42\n",
      "중랑구      42\n",
      "dtype: int64\n",
      "\n"
     ]
    },
    {
     "data": {
      "text/plain": [
       "1680"
      ]
     },
     "execution_count": 45,
     "metadata": {},
     "output_type": "execute_result"
    }
   ],
   "source": [
    "grouped = df.groupby('자치구')\n",
    "print(grouped.head())\n",
    "print()\n",
    "print(grouped.size())\n",
    "print()\n",
    "int(grouped.size().sum()) #1680개"
   ]
  },
  {
   "cell_type": "code",
   "execution_count": 46,
   "metadata": {},
   "outputs": [
    {
     "name": "stdout",
     "output_type": "stream",
     "text": [
      "중복된 행의 개수: 167\n",
      "\n",
      "중복된 도로명주소 목록:\n",
      "['홍지문2길 1' '삼일대로 460' '낙산길 250' '북촌로4길 7' '지봉로 73' '혜화로 32' '소파로2길 7'\n",
      " '청구로17길 40' '다산로 269' '덕수궁길 140' '퇴계로50길 13' '다산로 32' '효창원로 228'\n",
      " '원효로64길 17-10' '서빙고로51길 14' '한남대로 112' '성수일로 34' '뚝섬로13길 22' '마장로35나길 31'\n",
      " '사근동11길 16' '동일로43길 9' '금호로1길 25' '한림말길 43' '천호대로130길 58' '광나루로30길 49'\n",
      " '뚝섬로46길 64' '뚝섬로64길 71' '워커힐로 32' '아차산로44길 26' '긴고랑로13길 59' '신이문로 16'\n",
      " '망우로6길 48' '한천로6길 21' '전농로3길 23' '답십리로69길 27' '전농로16길 61' '고산자로 518'\n",
      " '장안벚꽃로 309' '송림길 114' '동일로157길 75' '면목로23길 20' '길음로 142' '성북로4길 52'\n",
      " '성북로4길 52-1' '길음로15길 55' '동소문로13길 38' '보문사길 50' '보문로29길 106' '돌곶이로22길 21'\n",
      " '성북로 102-10' '종암로40길 30' '종암로5길 14' '한천로101길 66' '아리랑로 63' '정릉로9라길 11'\n",
      " '솔샘로 195' '삼양로74길 39' '노해로49길 69' '도봉로173길 96' '덕릉로60길 93' '해등로16길 81'\n",
      " '한글비석로 506' '동일로173길 12' '한글비석로 566' '수락산로 237' '노원로38길 34' '동일로 1745'\n",
      " '중계로12길 9' '상계로 267' '공릉로58길 36' '화랑로51나길 31' '한글비석로 232' '중계로 206'\n",
      " '중계로 218' '덕릉로73길 18' '덕릉로 603' '연서로 117' '갈현로15길 51' '은평터널로 150'\n",
      " '수색로16길 21' '진관1로 77-23' '연서로35길 37' '은평로4길 21-9' '은평로 239' '가좌로5길 5'\n",
      " '통일로 165' '세무서길 33-9' '홍은중앙로 13' '만리재옛길 13' '도화2길 64' '월드컵북로 353'\n",
      " '월드컵로42길 30' '백범로17길 9' '백범로1길 56' '안양천로 1009' '신정로 292' '남부순환로58길 32'\n",
      " '목동로11길 30' '목동중앙로 70' '목동중앙로 132' '신정로13가길 30' '마곡서로 33' '마곡서1로 68'\n",
      " '강서로46길 23' '양천로69길 49' '방화대로50길 22' '까치산로10길 70' '개봉로16길 30-11' '경서로 31'\n",
      " '고척로21길 55' '새말로 73' '신도림로 26' '도림로20길 57' '탑골로 47-3' '범안로11길 3'\n",
      " '시흥대로38길 78' '선유로 131' '대림로21길 6' '도림로53길 32-9' '경인로 756' '시흥대로173길 14'\n",
      " '양산로 185' '여의나루로2길 14' '서달로 115' '사당로 146' '호암로 498' '청룡4길 49'\n",
      " '난곡로35길 102' '행운1라길 17' '대학7길 52' '신림로 114' '봉천로 505' '은천로 69' '관악로5길 61'\n",
      " '신반포로 55-4' '방배중앙로13길 26' '방배로 260' '헌릉로8길 42' '태봉로 59' '양재대로2길 74'\n",
      " '바우뫼로7길 38' '고무래로 90-6' '역삼로98길 16' '광평로51길 46' '강남대로66길 21' '일원로 21'\n",
      " '송파대로37길 45' '마천로25길 18' '양산로2길 26' '성내천로 207' '위례성대로10길 4' '양재대로 1264'\n",
      " '석촌호수로 159' '백제고분로 400' '올림픽로 215' '올림픽로4길 59' '오금로57길 15' '잠실로 32'\n",
      " '올림픽로 95' '송파대로26길 22' '동남로82길 94-54' '고덕로46길 53' '양재대로116길 69'\n",
      " '진황도로61길 29' '명일로 23']\n",
      "\n",
      "중복된 도로명주소 개수: 165\n"
     ]
    }
   ],
   "source": [
    "# 도로명주소를 기준으로 중복값 확인\n",
    "duplicated_rows = df[df.duplicated(subset=['도로명주소'])]\n",
    "print(\"중복된 행의 개수:\", duplicated_rows.shape[0])\n",
    "print()\n",
    "\n",
    "# 중복된 도로명주소 목록을 고유값으로 추출\n",
    "duplicated_addresses = duplicated_rows['도로명주소'].unique()\n",
    "\n",
    "# 중복된 도로명주소 출력\n",
    "print(\"중복된 도로명주소 목록:\")\n",
    "print(duplicated_addresses)\n",
    "print()\n",
    "print(\"중복된 도로명주소 개수:\", len(duplicated_addresses)) #165개"
   ]
  },
  {
   "cell_type": "code",
   "execution_count": 47,
   "metadata": {},
   "outputs": [
    {
     "name": "stdout",
     "output_type": "stream",
     "text": [
      "3번 이상 반복되는 도로명주소 목록:\n",
      "도로명주소\n",
      "성북로4길 52     3\n",
      "한글비석로 232    3\n",
      "Name: count, dtype: int64\n"
     ]
    }
   ],
   "source": [
    "# 도로명주소별로 중복 횟수 계산\n",
    "duplicated_count = df['도로명주소'].value_counts()\n",
    "\n",
    "# 3번 이상 반복된 도로명주소만 필터링\n",
    "three_times_or_more = duplicated_count[duplicated_count >= 3]\n",
    "\n",
    "# 3번 이상 반복되는 도로명주소 목록\n",
    "print(\"3번 이상 반복되는 도로명주소 목록:\")\n",
    "print(three_times_or_more)"
   ]
  },
  {
   "cell_type": "code",
   "execution_count": 48,
   "metadata": {},
   "outputs": [
    {
     "name": "stdout",
     "output_type": "stream",
     "text": [
      "고유한 도로명주소 목록:\n",
      "0              홍지문2길 1\n",
      "1             삼일대로 446\n",
      "2               대학로 64\n",
      "3            통일로12길 23\n",
      "4             사직로9길 19\n",
      "             ...      \n",
      "1508           상암로 369\n",
      "1509        고덕로 295-59\n",
      "1510    천호대로187길 73-10\n",
      "1511       올림픽로104길 36\n",
      "1512        고덕로83길 154\n",
      "Name: 도로명주소, Length: 1513, dtype: object\n",
      "고유한 도로명주소 개수: 1513\n"
     ]
    }
   ],
   "source": [
    "# 도로명주소 열만 추출\n",
    "address = df['도로명주소']\n",
    "\n",
    "# 고유한 도로명주소만 추출\n",
    "unique_addresses = address.drop_duplicates().reset_index(drop=True)\n",
    "\n",
    "# 고유한 도로명주소 출력\n",
    "print(\"고유한 도로명주소 목록:\")\n",
    "print(unique_addresses)\n",
    "\n",
    "# 고유한 도로명주소 개수 출력\n",
    "print(\"고유한 도로명주소 개수:\", unique_addresses.shape[0]) # 1513개"
   ]
  },
  {
   "cell_type": "code",
   "execution_count": 49,
   "metadata": {},
   "outputs": [
    {
     "name": "stdout",
     "output_type": "stream",
     "text": [
      "중복된 도로명주소 목록:\n",
      "Series([], Name: 도로명주소, dtype: object)\n",
      "중복된 도로명주소 개수: 0\n"
     ]
    }
   ],
   "source": [
    "# unique_addresses에서 중복된 도로명주소 확인\n",
    "duplicated_addresses = unique_addresses[unique_addresses.duplicated()]\n",
    "\n",
    "# 중복된 도로명주소 출력\n",
    "print(\"중복된 도로명주소 목록:\")\n",
    "print(duplicated_addresses)\n",
    "\n",
    "# 중복된 도로명주소 개수 출력\n",
    "print(\"중복된 도로명주소 개수:\", duplicated_addresses.shape[0]) # 0개\n"
   ]
  },
  {
   "cell_type": "code",
   "execution_count": 51,
   "metadata": {},
   "outputs": [],
   "source": [
    "df.to_csv('어린이보호구역전처리.csv', index=False, encoding='utf-8-sig') #결측치만 제거\n",
    "unique_addresses.to_csv(\"어린이보호구역_고유_도로명주소.csv\", index=False, header=True,encoding='utf-8-sig') #고유한 도로명주소"
   ]
  }
 ],
 "metadata": {
  "kernelspec": {
   "display_name": "Python 3",
   "language": "python",
   "name": "python3"
  },
  "language_info": {
   "codemirror_mode": {
    "name": "ipython",
    "version": 3
   },
   "file_extension": ".py",
   "mimetype": "text/x-python",
   "name": "python",
   "nbconvert_exporter": "python",
   "pygments_lexer": "ipython3",
   "version": "3.12.6"
  }
 },
 "nbformat": 4,
 "nbformat_minor": 2
}
