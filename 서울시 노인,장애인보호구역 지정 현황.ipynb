{
 "cells": [
  {
   "cell_type": "markdown",
   "metadata": {},
   "source": [
    "## 노인,장애인 보호구역 지정 현황"
   ]
  },
  {
   "cell_type": "markdown",
   "metadata": {},
   "source": [
    "### 노인보호구역지정현황"
   ]
  },
  {
   "cell_type": "code",
   "execution_count": 8,
   "metadata": {},
   "outputs": [
    {
     "name": "stdout",
     "output_type": "stream",
     "text": [
      "   자치구             시설명           위치\n",
      "0  종로구       종로노인종합복지관  율곡로19길 17-8\n",
      "1  종로구  종로노인종합복지관 무악센터    통일로14길 30\n",
      "2  종로구        서울노인복지센터     삼일대로 467\n",
      "3  종로구            락희거리     삼일대로 428\n",
      "4  종로구     종묘광장공원 동순라길         동순라길\n",
      "총 행의 개수: 195\n"
     ]
    }
   ],
   "source": [
    "import pandas as pd\n",
    "\n",
    "# CSV 파일 경로\n",
    "csv_file_path = r\"C:\\Users\\user\\Desktop\\dataset\\노인 보호구역 지정현황.xlsx\"\n",
    "\n",
    "# Excel 파일 읽기\n",
    "df2 = pd.read_excel(csv_file_path)\n",
    "\n",
    "# '연번'과 '지정연도' 칼럼 삭제\n",
    "df2 = df2.drop(columns=['연번', '지정연도'])\n",
    "\n",
    "# 데이터 확인\n",
    "print(df2.head())\n",
    "print(\"총 행의 개수:\", df2.shape[0])"
   ]
  },
  {
   "cell_type": "code",
   "execution_count": 9,
   "metadata": {},
   "outputs": [
    {
     "name": "stdout",
     "output_type": "stream",
     "text": [
      "자치구    0\n",
      "시설명    0\n",
      "위치     0\n",
      "dtype: int64\n"
     ]
    }
   ],
   "source": [
    "print(df2.isna().sum()) #결측치 없음"
   ]
  },
  {
   "cell_type": "code",
   "execution_count": null,
   "metadata": {},
   "outputs": [
    {
     "name": "stdout",
     "output_type": "stream",
     "text": [
      "자치구별 데이터 개수:\n",
      "자치구\n",
      "강남구     13\n",
      "강동구      9\n",
      "강북구      2\n",
      "강서구     12\n",
      "관악구     13\n",
      "광진구      5\n",
      "구로구      3\n",
      "금천구      4\n",
      "노원구      7\n",
      "도봉구      2\n",
      "동대문구     9\n",
      "동작구      8\n",
      "마포구      7\n",
      "서대문구     6\n",
      "서초구     14\n",
      "성동구      5\n",
      "성북구      8\n",
      "송파구     24\n",
      "양천구      7\n",
      "영등포구     4\n",
      "용산구      5\n",
      "은평구     11\n",
      "종로구      6\n",
      "중구       8\n",
      "중랑구      3\n",
      "dtype: int64\n"
     ]
    },
    {
     "data": {
      "text/plain": [
       "195"
      ]
     },
     "execution_count": 12,
     "metadata": {},
     "output_type": "execute_result"
    }
   ],
   "source": [
    "# 자치구별로 묶기\n",
    "grouped = df2.groupby('자치구')\n",
    "\n",
    "# 자치구별 데이터 개수 확인\n",
    "print(\"자치구별 데이터 개수:\")\n",
    "print(grouped.size())  # 각 자치구별 데이터 개수 출력\n",
    "int(grouped.size().sum()) #195개"
   ]
  },
  {
   "cell_type": "code",
   "execution_count": 15,
   "metadata": {},
   "outputs": [
    {
     "name": "stdout",
     "output_type": "stream",
     "text": [
      "중복된 위치가 있는 행:\n",
      "Empty DataFrame\n",
      "Columns: [자치구, 시설명, 위치]\n",
      "Index: []\n",
      "중복된 위치의 개수: 0\n",
      "중복된 위치 목록:\n",
      "[]\n",
      "중복된 위치 개수: 0\n"
     ]
    }
   ],
   "source": [
    "# 위치를 기준으로 중복된 데이터 확인 => 중복 없음\n",
    "duplicated_rows = df2[df2.duplicated(subset=['위치'], keep=False)]\n",
    "\n",
    "# 중복된 행 출력\n",
    "print(\"중복된 위치가 있는 행:\")\n",
    "print(duplicated_rows)\n",
    "\n",
    "# 중복된 위치 개수 확인\n",
    "print(\"중복된 위치의 개수:\", duplicated_rows.shape[0])\n",
    "\n",
    "# 중복된 위치 목록 고유값으로 추출\n",
    "duplicated_locations = duplicated_rows['위치'].unique()\n",
    "\n",
    "# 중복된 위치 목록 출력\n",
    "print(\"중복된 위치 목록:\")\n",
    "print(duplicated_locations)\n",
    "\n",
    "# 중복된 위치 개수 출력\n",
    "print(\"중복된 위치 개수:\", len(duplicated_locations))"
   ]
  },
  {
   "cell_type": "code",
   "execution_count": null,
   "metadata": {},
   "outputs": [],
   "source": [
    "# '위치' 칼럼만 추출\n",
    "location_df = df2[['위치']]\n",
    "\n",
    "# 새로운 파일로 저장\n",
    "location_df.to_csv('노인보호구역전처리.csv', index=False, encoding='utf-8-sig')"
   ]
  },
  {
   "cell_type": "markdown",
   "metadata": {},
   "source": [
    "### 장애인보호구역"
   ]
  },
  {
   "cell_type": "code",
   "execution_count": 22,
   "metadata": {},
   "outputs": [
    {
     "name": "stdout",
     "output_type": "stream",
     "text": [
      "    자치구          시설명            위치\n",
      "0   성동구       성동재활의원      뚝섬로1길 43\n",
      "1   광진구         정립회관       워커힐로 93\n",
      "2  동대문구  동대문장애인종합복지관      청계천로 521\n",
      "3   은평구     빛나눔보호작업장    수색로 390-31\n",
      "4   강서구         늘푸른집  금낭화로26가길 130\n",
      "총 행의 개수: 23\n"
     ]
    }
   ],
   "source": [
    "import pandas as pd\n",
    "\n",
    "# CSV 파일 경로\n",
    "csv_file_path3 = r\"C:\\Users\\user\\Desktop\\dataset\\장애인 보호구역 지정현황.xlsx\"\n",
    "\n",
    "# Excel 파일 읽기\n",
    "df3 = pd.read_excel(csv_file_path3)\n",
    "\n",
    "# '연번'과 '지정일' 칼럼 삭제\n",
    "df3 = df3.drop(columns=['연번', '지정일'])\n",
    "\n",
    "# 데이터 확인\n",
    "print(df3.head())\n",
    "print(\"총 행의 개수:\", df3.shape[0])"
   ]
  },
  {
   "cell_type": "code",
   "execution_count": 23,
   "metadata": {},
   "outputs": [
    {
     "name": "stdout",
     "output_type": "stream",
     "text": [
      "자치구    0\n",
      "시설명    0\n",
      "위치     0\n",
      "dtype: int64\n"
     ]
    }
   ],
   "source": [
    "print(df3.isna().sum()) #결측치 없음"
   ]
  },
  {
   "cell_type": "code",
   "execution_count": 24,
   "metadata": {},
   "outputs": [
    {
     "name": "stdout",
     "output_type": "stream",
     "text": [
      "자치구별 데이터 개수:\n",
      "자치구\n",
      "강남구     6\n",
      "강동구     3\n",
      "강서구     2\n",
      "관악구     3\n",
      "광진구     1\n",
      "금천구     1\n",
      "동대문구    1\n",
      "동작구     1\n",
      "성동구     1\n",
      "송파구     3\n",
      "은평구     1\n",
      "dtype: int64\n"
     ]
    },
    {
     "data": {
      "text/plain": [
       "23"
      ]
     },
     "execution_count": 24,
     "metadata": {},
     "output_type": "execute_result"
    }
   ],
   "source": [
    "# 자치구별로 묶기\n",
    "grouped3 = df3.groupby('자치구')\n",
    "\n",
    "# 자치구별 데이터 개수 확인\n",
    "print(\"자치구별 데이터 개수:\")\n",
    "print(grouped3.size())  # 각 자치구별 데이터 개수 출력\n",
    "int(grouped3.size().sum()) #23"
   ]
  },
  {
   "cell_type": "code",
   "execution_count": 25,
   "metadata": {},
   "outputs": [
    {
     "name": "stdout",
     "output_type": "stream",
     "text": [
      "중복된 위치가 있는 행:\n",
      "Empty DataFrame\n",
      "Columns: [자치구, 시설명, 위치]\n",
      "Index: []\n",
      "중복된 위치의 개수: 0\n",
      "중복된 위치 목록:\n",
      "[]\n",
      "중복된 위치 개수: 0\n"
     ]
    }
   ],
   "source": [
    "# 위치를 기준으로 중복된 데이터 확인 => 중복 없음\n",
    "duplicated_rows3 = df3[df3.duplicated(subset=['위치'], keep=False)]\n",
    "\n",
    "# 중복된 행 출력\n",
    "print(\"중복된 위치가 있는 행:\")\n",
    "print(duplicated_rows3)\n",
    "\n",
    "# 중복된 위치 개수 확인\n",
    "print(\"중복된 위치의 개수:\", duplicated_rows3.shape[0])\n",
    "\n",
    "# 중복된 위치 목록 고유값으로 추출\n",
    "duplicated_locations3 = duplicated_rows3['위치'].unique()\n",
    "\n",
    "# 중복된 위치 목록 출력\n",
    "print(\"중복된 위치 목록:\")\n",
    "print(duplicated_locations3)\n",
    "\n",
    "# 중복된 위치 개수 출력\n",
    "print(\"중복된 위치 개수:\", len(duplicated_locations3))"
   ]
  },
  {
   "cell_type": "code",
   "execution_count": 26,
   "metadata": {},
   "outputs": [],
   "source": [
    "# '위치' 칼럼만 추출\n",
    "location_df3 = df3[['위치']]\n",
    "\n",
    "# 새로운 파일로 저장\n",
    "location_df3.to_csv('장애인보호구역전처리.csv', index=False, encoding='utf-8-sig')"
   ]
  }
 ],
 "metadata": {
  "kernelspec": {
   "display_name": "Python 3",
   "language": "python",
   "name": "python3"
  },
  "language_info": {
   "codemirror_mode": {
    "name": "ipython",
    "version": 3
   },
   "file_extension": ".py",
   "mimetype": "text/x-python",
   "name": "python",
   "nbconvert_exporter": "python",
   "pygments_lexer": "ipython3",
   "version": "3.12.6"
  }
 },
 "nbformat": 4,
 "nbformat_minor": 2
}
